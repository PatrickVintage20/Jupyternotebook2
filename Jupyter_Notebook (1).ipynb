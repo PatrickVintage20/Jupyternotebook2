{
 "cells": [
  {
   "cell_type": "markdown",
   "metadata": {},
   "source": [
    "<center>\n",
    "    <img src=\"https://s3-api.us-geo.objectstorage.softlayer.net/cf-courses-data/CognitiveClass/Logos/organization_logo/organization_logo.png\" width=\"300\" alt=\"cognitiveclass.ai logo\"  />\n",
    "</center>\n"
   ]
  },
  {
   "cell_type": "markdown",
   "metadata": {},
   "source": [
    "#### Add your code below following the instructions given in the course\n"
   ]
  },
  {
   "cell_type": "markdown",
   "metadata": {},
   "source": [
    "# My Jupyter Notebook on IBM Watson Studio\n",
    "\n",
    " \n",
    " "
   ]
  },
  {
   "cell_type": "markdown",
   "metadata": {},
   "source": [
    " __OKAFOR PATRICK__\n",
    " \n",
    " Full stack web developer and a Data scientist\n",
    " "
   ]
  },
  {
   "cell_type": "markdown",
   "metadata": {},
   "source": [
    "_I am interested in data science because i will love to solve problems solved by people, firms, country and the world at large_ "
   ]
  },
  {
   "cell_type": "markdown",
   "metadata": {},
   "source": [
    "### The code i am going to write below is going display a text \"Hello world\"."
   ]
  },
  {
   "cell_type": "code",
   "execution_count": 1,
   "metadata": {},
   "outputs": [
    {
     "name": "stdout",
     "output_type": "stream",
     "text": [
      "Hello world\n"
     ]
    }
   ],
   "source": [
    "print(\"Hello world\")"
   ]
  },
  {
   "cell_type": "markdown",
   "metadata": {},
   "source": [
    "***\n",
    "***\n",
    "***\n",
    "\n",
    "\n",
    "- Machine learning\n",
    "- Regression\n",
    "- support vector machine\n",
    "\n",
    "1. Linear Regression\n",
    "2. Robust Regression\n",
    "3. Multiple Regression\n",
    "\n",
    "\n",
    "| Users | phone    |\n",
    "|-------|----------| \n",
    "| John  | 0813604  |\n",
    "| james |  09044557|\n",
    "| Ruth  |  08044553|\n",
    "| Mecco | 07033446 |\n",
    "\n",
    "\n",
    "\n",
    "__[link text](http://https://www.tradingview.com/)__\n",
    "\n",
    "<img src=\"https://androidcommunity.com/wp-content/uploads/2021/05/Youtube-Google-Translate-Update-May-2021-696x435.jpg\" alt=\"Alt text that describes the graphic\" title=\"Title text\" />\n",
    "\n",
    "print (\"My name is Vintage\")\n",
    "\n",
    "> And i want to be a professional Data scientist\n",
    "\n",
    "--who will solve problems in every aspect of life--\n"
   ]
  },
  {
   "cell_type": "code",
   "execution_count": null,
   "metadata": {},
   "outputs": [],
   "source": []
  }
 ],
 "metadata": {
  "kernelspec": {
   "display_name": "Python",
   "language": "python",
   "name": "conda-env-python-py"
  },
  "language_info": {
   "codemirror_mode": {
    "name": "ipython",
    "version": 3
   },
   "file_extension": ".py",
   "mimetype": "text/x-python",
   "name": "python",
   "nbconvert_exporter": "python",
   "pygments_lexer": "ipython3",
   "version": "3.7.12"
  }
 },
 "nbformat": 4,
 "nbformat_minor": 4
}
